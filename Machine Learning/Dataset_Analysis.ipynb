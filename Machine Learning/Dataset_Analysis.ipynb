{
 "cells": [
  {
   "cell_type": "code",
   "execution_count": 86,
   "metadata": {},
   "outputs": [],
   "source": [
    "import pandas as pd"
   ]
  },
  {
   "cell_type": "code",
   "execution_count": 87,
   "metadata": {},
   "outputs": [],
   "source": [
    "data = pd.read_csv('BuildingNames_Urban.csv', encoding = 'ISO-8859-1')"
   ]
  },
  {
   "cell_type": "code",
   "execution_count": 88,
   "metadata": {},
   "outputs": [],
   "source": [
    "count = 0\n",
    "for j in data['Name of Building']:\n",
    "    count += 1"
   ]
  },
  {
   "cell_type": "code",
   "execution_count": 89,
   "metadata": {},
   "outputs": [
    {
     "name": "stderr",
     "output_type": "stream",
     "text": [
      "D:\\Program Files (x86)\\Microsoft Visual Studio\\Shared\\Anaconda3_64\\envs\\venv\\lib\\site-packages\\ipykernel_launcher.py:14: FutureWarning: set_value is deprecated and will be removed in a future release. Please use .at[] or .iat[] accessors instead\n",
      "  \n"
     ]
    }
   ],
   "source": [
    "for j in range(0, count):\n",
    "    str = data.loc[j]['Name of Building']\n",
    "    newstr = ''\n",
    "    if(isinstance(str, float)):\n",
    "        continue\n",
    "    for i in str:\n",
    "        if(i != '\\n' and i != '*' and i != '?' and i != '\\r' and i != '\"'):\n",
    "            newstr = newstr + i\n",
    "        elif(i == '*' or i == '?'):\n",
    "            data.drop([j], axis = 0)\n",
    "            break\n",
    "        else:\n",
    "            break\n",
    "    data.set_value(j, 'Name of Building', newstr)"
   ]
  },
  {
   "cell_type": "code",
   "execution_count": 90,
   "metadata": {},
   "outputs": [
    {
     "name": "stderr",
     "output_type": "stream",
     "text": [
      "D:\\Program Files (x86)\\Microsoft Visual Studio\\Shared\\Anaconda3_64\\envs\\venv\\lib\\site-packages\\ipykernel_launcher.py:19: FutureWarning: set_value is deprecated and will be removed in a future release. Please use .at[] or .iat[] accessors instead\n",
      "D:\\Program Files (x86)\\Microsoft Visual Studio\\Shared\\Anaconda3_64\\envs\\venv\\lib\\site-packages\\ipykernel_launcher.py:17: FutureWarning: set_value is deprecated and will be removed in a future release. Please use .at[] or .iat[] accessors instead\n"
     ]
    }
   ],
   "source": [
    "for j in range(0, count):\n",
    "    str = data.loc[j]['Name of Building']\n",
    "    word = ''\n",
    "    flag = True\n",
    "    if(isinstance(str, float)):\n",
    "        continue\n",
    "    for i in str:\n",
    "        if(i != ' '):\n",
    "            word = word + i\n",
    "        else:\n",
    "            if(word == 'Hotel' or word == 'Church' or word == 'Mall' or word == 'School'):\n",
    "                flag = False\n",
    "            word = ''\n",
    "    if(word == 'Hotel' or word == 'Church' or word == 'Mall' or word == 'School'):\n",
    "        flag = False\n",
    "    if(flag):\n",
    "        data.set_value(j, 'Property_Type', 0)\n",
    "    else:\n",
    "        data.set_value(j, 'Property_Type', 1)"
   ]
  },
  {
   "cell_type": "code",
   "execution_count": 91,
   "metadata": {},
   "outputs": [],
   "source": [
    "data.to_csv(\"Analyzed_Data.csv\", index=False, encoding='utf-8')"
   ]
  },
  {
   "cell_type": "code",
   "execution_count": null,
   "metadata": {},
   "outputs": [],
   "source": []
  }
 ],
 "metadata": {
  "kernelspec": {
   "display_name": "Python 3",
   "language": "python",
   "name": "python3"
  },
  "language_info": {
   "codemirror_mode": {
    "name": "ipython",
    "version": 3
   },
   "file_extension": ".py",
   "mimetype": "text/x-python",
   "name": "python",
   "nbconvert_exporter": "python",
   "pygments_lexer": "ipython3",
   "version": "3.6.7"
  }
 },
 "nbformat": 4,
 "nbformat_minor": 2
}
